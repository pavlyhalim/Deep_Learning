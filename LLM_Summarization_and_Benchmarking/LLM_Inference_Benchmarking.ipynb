{
 "cells": [
  {
   "cell_type": "markdown",
   "metadata": {
    "id": "YJegWPonp4Nm"
   },
   "source": [
    "### LLM Inference Benchmarking Assignment (25 points)\n",
    "\n",
    "#### Overview\n",
    "In this assignment, you will learn how to benchmark Large Language Model (LLM) inference using vLLM, a high-performance inference engine. You will use a small model (OPT-125M) to understand the basics of throughput measurement and the impact of different parameters on inference speed."
   ]
  },
  {
   "cell_type": "markdown",
   "metadata": {
    "id": "E5dNjncUGq5k"
   },
   "source": [
    "Your name : [Pavly Halim]\n",
    "\n",
    "Net id : [poh2005]"
   ]
  },
  {
   "cell_type": "markdown",
   "metadata": {
    "id": "73ge34nwqjva"
   },
   "source": [
    "#### Environment Setup\n",
    "\n",
    "- Successfully install all required packages (2 points)\n",
    "\n",
    "\n",
    "First, install the required packages:"
   ]
  },
  {
   "cell_type": "code",
   "execution_count": null,
   "metadata": {
    "id": "_yA9ENugp0TX"
   },
   "outputs": [],
   "source": [
    "# Install PyTorch and CUDA toolkit\n",
    "!pip install torch torchvision torchaudio --index-url https://download.pytorch.org/whl/cu118\n",
    "\n",
    "# Install Triton\n",
    "!pip install triton\n",
    "\n",
    "# Install other dependencies\n",
    "!pip install transformers\n",
    "!pip install vllm\n",
    "\n",
    "# Install plotting lib\n",
    "!pip install matplotlib pandas seaborn"
   ]
  },
  {
   "cell_type": "markdown",
   "metadata": {
    "id": "njDhTvc1ubaf"
   },
   "source": [
    "Import the necessary libraries:"
   ]
  },
  {
   "cell_type": "code",
   "execution_count": 1,
   "metadata": {
    "id": "R6ZJMaIIuYg9"
   },
   "outputs": [
    {
     "name": "stdout",
     "output_type": "stream",
     "text": [
      "All libraries imported successfully!\n"
     ]
    }
   ],
   "source": [
    "# Import necessary libraries\n",
    "import dataclasses\n",
    "import json\n",
    "import random\n",
    "import time\n",
    "from typing import List, Optional\n",
    "\n",
    "import torch\n",
    "from transformers import AutoTokenizer\n",
    "from vllm import LLM, SamplingParams\n",
    "from tqdm import tqdm\n",
    "\n",
    "import matplotlib.pyplot as plt\n",
    "import pandas as pd\n",
    "import seaborn as sns\n",
    "\n",
    "print(\"All libraries imported successfully!\")"
   ]
  },
  {
   "cell_type": "markdown",
   "metadata": {
    "id": "y5AIcnJPugAu"
   },
   "source": [
    "#### Part 1: Creating Sample Requests\n",
    "\n",
    "- Implement the create_synthetic_requests function correctly (5 points)\n",
    "\n",
    "We'll create a function to generate sample requests for benchmarking:"
   ]
  },
  {
   "cell_type": "code",
   "execution_count": 2,
   "metadata": {
    "id": "AIDbFwazvI8E"
   },
   "outputs": [],
   "source": [
    "@dataclasses.dataclass\n",
    "class SampleRequest:\n",
    "    \"\"\"A class representing a single inference request for benchmarking.\"\"\"\n",
    "    prompt: str\n",
    "    prompt_len: int\n",
    "    expected_output_len: int\n",
    "\n",
    "def create_synthetic_requests(\n",
    "    tokenizer,\n",
    "    num_requests: int,\n",
    "    input_len: int,\n",
    "    output_len: int\n",
    ") -> List[SampleRequest]:\n",
    "    \"\"\"Create synthetic requests for benchmarking.\n",
    "\n",
    "    Args:\n",
    "        tokenizer: The tokenizer to use\n",
    "        num_requests: Number of requests to generate\n",
    "        input_len: Desired input length in tokens\n",
    "        output_len: Desired output length in tokens\n",
    "\n",
    "    Returns:\n",
    "        List of SampleRequest objects\n",
    "    \"\"\"\n",
    "    # Try different prompt lengths to get desired token length\n",
    "    base_prompt = \"Generate a detailed analysis of the following topic: \"\n",
    "    topics = [\n",
    "        \"artificial intelligence\",\n",
    "        \"climate change\",\n",
    "        \"renewable energy\",\n",
    "        \"space exploration\",\n",
    "        \"quantum computing\"\n",
    "    ]\n",
    "    \n",
    "    for i in range(-10, 10):\n",
    "        # Create a prompt by repeating words until we get close to desired length\n",
    "        topic = random.choice(topics)\n",
    "        words = (base_prompt + topic + \" \").split()\n",
    "        prompt = \" \".join(words * (input_len + i))\n",
    "        \n",
    "        # Tokenize and check length\n",
    "        tokenized_prompt = tokenizer.encode(prompt)\n",
    "        if len(tokenized_prompt) >= input_len:\n",
    "            # Trim to exact length if needed\n",
    "            prompt = tokenizer.decode(tokenized_prompt[:input_len])\n",
    "            break\n",
    "    else:\n",
    "        raise ValueError(f\"Failed to synthesize a prompt with {input_len} tokens.\")\n",
    "\n",
    "    # Create list of requests\n",
    "    return [\n",
    "        SampleRequest(\n",
    "            prompt=prompt,\n",
    "            prompt_len=input_len,\n",
    "            expected_output_len=output_len\n",
    "        ) for _ in range(num_requests)\n",
    "    ]"
   ]
  },
  {
   "cell_type": "markdown",
   "metadata": {
    "id": "N8T9s0havPf9"
   },
   "source": [
    "#### Part 2: Implementing the Benchmark\n",
    "- Implement the run_benchmark function correctly (8 points)\n",
    "\n",
    "Create the main benchmarking function:"
   ]
  },
  {
   "cell_type": "code",
   "execution_count": 3,
   "metadata": {
    "id": "1iVZVVEDvNFf"
   },
   "outputs": [],
   "source": [
    "def run_benchmark(\n",
    "    requests: List[SampleRequest],\n",
    "    model_name: str,\n",
    "    tensor_parallel_size: int = 1,\n",
    "    gpu_memory_utilization: float = 0.9,\n",
    "    max_num_batched_tokens: int = 2048,\n",
    "    n: int = 1\n",
    ") -> float:\n",
    "    \"\"\"Run inference benchmark using vLLM.\n",
    "\n",
    "    Args:\n",
    "        requests: List of requests to process\n",
    "        model_name: Name of the model to benchmark\n",
    "        tensor_parallel_size: Number of GPUs for tensor parallelism\n",
    "        gpu_memory_utilization: Target GPU memory utilization\n",
    "        max_num_batched_tokens: Maximum number of tokens in a batch\n",
    "        n: Number of sequences to generate per prompt\n",
    "\n",
    "    Returns:\n",
    "        Elapsed time in seconds\n",
    "    \"\"\"\n",
    "    # Create LLM instance\n",
    "    llm = LLM(\n",
    "        model=model_name,\n",
    "        tensor_parallel_size=tensor_parallel_size,\n",
    "        gpu_memory_utilization=gpu_memory_utilization,\n",
    "        max_num_batched_tokens=max_num_batched_tokens,\n",
    "    )\n",
    "\n",
    "    # Prepare sampling parameters\n",
    "    sampling_params = SamplingParams(\n",
    "        n=n,\n",
    "        temperature=0.7,\n",
    "        top_p=0.95,\n",
    "        max_tokens=max(req.expected_output_len for req in requests)\n",
    "    )\n",
    "\n",
    "    # Get prompts\n",
    "    prompts = [request.prompt for request in requests]\n",
    "\n",
    "    # Run inference with timing\n",
    "    start = time.perf_counter()\n",
    "    outputs = llm.generate(prompts, sampling_params)\n",
    "    end = time.perf_counter()\n",
    "\n",
    "    return end - start"
   ]
  },
  {
   "cell_type": "markdown",
   "metadata": {
    "id": "Sg0291u7vZd6"
   },
   "source": [
    "#### Part 3: Running the Benchmark (15 points)\n",
    "\n",
    "- Experiments and Analysis (10 points)\n",
    "\n",
    "  - Run the benchmark with different batch sizes (2 points)"
   ]
  },
  {
   "cell_type": "code",
   "execution_count": 4,
   "metadata": {
    "id": "OegkDTQaxn0f"
   },
   "outputs": [],
   "source": [
    "def experiment_batch_sizes(model_name: str, batch_sizes: List[int]) -> pd.DataFrame:\n",
    "    \"\"\"Run benchmark with different batch sizes.\n",
    "\n",
    "    Args:\n",
    "        model_name: Name of the model to benchmark\n",
    "        batch_sizes: List of batch sizes to test\n",
    "\n",
    "    Returns:\n",
    "        DataFrame with results\n",
    "    \"\"\"\n",
    "    results = []\n",
    "    tokenizer = AutoTokenizer.from_pretrained(model_name)\n",
    "\n",
    "    for batch_size in tqdm(batch_sizes, desc=\"Testing batch sizes\"):\n",
    "        # Create requests with fixed input/output lengths\n",
    "        requests = create_synthetic_requests(\n",
    "            tokenizer=tokenizer,\n",
    "            num_requests=batch_size,\n",
    "            input_len=128,  # Fixed input length\n",
    "            output_len=64   # Fixed output length\n",
    "        )\n",
    "\n",
    "        try:\n",
    "            elapsed_time = run_benchmark(\n",
    "                requests,\n",
    "                model_name,\n",
    "                max_num_batched_tokens=max(batch_size * 256, 2048)\n",
    "            )\n",
    "\n",
    "            # Calculate total tokens processed\n",
    "            total_tokens = sum(req.prompt_len + req.expected_output_len for req in requests)\n",
    "            throughput = total_tokens / elapsed_time\n",
    "\n",
    "            results.append({\n",
    "                'batch_size': batch_size,\n",
    "                'throughput': throughput,\n",
    "                'elapsed_time': elapsed_time,\n",
    "                'total_tokens': total_tokens\n",
    "            })\n",
    "\n",
    "        except RuntimeError as e:\n",
    "            print(f\"Error with batch size {batch_size}: {str(e)}\")\n",
    "            continue\n",
    "\n",
    "    return pd.DataFrame(results)"
   ]
  },
  {
   "cell_type": "markdown",
   "metadata": {
    "id": "Ab3WdbEhxurz"
   },
   "source": [
    "  - Run the benchmark with different input/output lengths (2 points)\n"
   ]
  },
  {
   "cell_type": "code",
   "execution_count": 5,
   "metadata": {
    "id": "-FrT737XyACa"
   },
   "outputs": [],
   "source": [
    "def experiment_sequence_lengths(model_name: str, lengths: List[int]) -> pd.DataFrame:\n",
    "    \"\"\"Run benchmark with different input/output lengths.\n",
    "\n",
    "    Args:\n",
    "        model_name: Name of the model to benchmark\n",
    "        lengths: List of sequence lengths to test\n",
    "\n",
    "    Returns:\n",
    "        DataFrame with results\n",
    "    \"\"\"\n",
    "    results = []\n",
    "    tokenizer = AutoTokenizer.from_pretrained(model_name)\n",
    "    \n",
    "    for length in tqdm(lengths, desc=\"Testing sequence lengths\"):\n",
    "        # Create requests with varying sequence lengths\n",
    "        requests = create_synthetic_requests(\n",
    "            tokenizer=tokenizer,\n",
    "            num_requests=16,  # Fixed batch size\n",
    "            input_len=length,\n",
    "            output_len=length // 2  # Output length is half of input length\n",
    "        )\n",
    "\n",
    "        try:\n",
    "            elapsed_time = run_benchmark(\n",
    "                requests,\n",
    "                model_name,\n",
    "                max_num_batched_tokens=max(length * 32, 2048)\n",
    "            )\n",
    "\n",
    "            total_tokens = sum(req.prompt_len + req.expected_output_len for req in requests)\n",
    "            throughput = total_tokens / elapsed_time\n",
    "\n",
    "            results.append({\n",
    "                'sequence_length': length,\n",
    "                'throughput': throughput,\n",
    "                'elapsed_time': elapsed_time,\n",
    "                'total_tokens': total_tokens\n",
    "            })\n",
    "\n",
    "        except RuntimeError as e:\n",
    "            print(f\"Error with sequence length {length}: {str(e)}\")\n",
    "            continue\n",
    "\n",
    "    return pd.DataFrame(results)"
   ]
  },
  {
   "cell_type": "markdown",
   "metadata": {
    "id": "eH2jvprkxxl8"
   },
   "source": [
    "  - Run the benchmark with different numbers of requests (2 points)\n"
   ]
  },
  {
   "cell_type": "code",
   "execution_count": 6,
   "metadata": {
    "id": "htBUI94yyBXd"
   },
   "outputs": [],
   "source": [
    "def experiment_num_requests(model_name: str, request_counts: List[int]) -> pd.DataFrame:\n",
    "    \"\"\"Run benchmark with different numbers of requests.\n",
    "\n",
    "    Args:\n",
    "        model_name: Name of the model to benchmark\n",
    "        request_counts: List of request counts to test\n",
    "\n",
    "    Returns:\n",
    "        DataFrame with results\n",
    "    \"\"\"\n",
    "    results = []\n",
    "    tokenizer = AutoTokenizer.from_pretrained(model_name)\n",
    "    \n",
    "    for num_requests in tqdm(request_counts, desc=\"Testing request counts\"):\n",
    "        # Create requests with fixed sequence lengths but varying count\n",
    "        requests = create_synthetic_requests(\n",
    "            tokenizer=tokenizer,\n",
    "            num_requests=num_requests,\n",
    "            input_len=128,  # Fixed input length\n",
    "            output_len=64   # Fixed output length\n",
    "        )\n",
    "\n",
    "        try:\n",
    "            elapsed_time = run_benchmark(\n",
    "                requests,\n",
    "                model_name,\n",
    "                max_num_batched_tokens=2048\n",
    "            )\n",
    "\n",
    "            total_tokens = sum(req.prompt_len + req.expected_output_len for req in requests)\n",
    "            throughput = total_tokens / elapsed_time\n",
    "\n",
    "            results.append({\n",
    "                'num_requests': num_requests,\n",
    "                'throughput': throughput,\n",
    "                'elapsed_time': elapsed_time,\n",
    "                'total_tokens': total_tokens\n",
    "            })\n",
    "\n",
    "        except RuntimeError as e:\n",
    "            print(f\"Error with request count {num_requests}: {str(e)}\")\n",
    "            continue\n",
    "\n",
    "    return pd.DataFrame(results)"
   ]
  },
  {
   "cell_type": "markdown",
   "metadata": {
    "id": "z7wimvKqx0ID"
   },
   "source": [
    "  - Create a graph showing the relationship between batch size and throughput (2 points)\n",
    "\n",
    "Now let's put everything together and run the benchmark:\n"
   ]
  },
  {
   "cell_type": "code",
   "execution_count": 7,
   "metadata": {
    "id": "Ch3Fp_-FvWDm",
    "scrolled": true
   },
   "outputs": [
    {
     "name": "stdout",
     "output_type": "stream",
     "text": [
      "Running batch size experiments...\n"
     ]
    },
    {
     "data": {
      "application/vnd.jupyter.widget-view+json": {
       "model_id": "b9fa827e3e3c4ee6ab59ac81cfe5402c",
       "version_major": 2,
       "version_minor": 0
      },
      "text/plain": [
       "tokenizer_config.json:   0%|          | 0.00/685 [00:00<?, ?B/s]"
      ]
     },
     "metadata": {},
     "output_type": "display_data"
    },
    {
     "data": {
      "application/vnd.jupyter.widget-view+json": {
       "model_id": "3a6ccf01b181448c95206969a59ebc26",
       "version_major": 2,
       "version_minor": 0
      },
      "text/plain": [
       "config.json:   0%|          | 0.00/651 [00:00<?, ?B/s]"
      ]
     },
     "metadata": {},
     "output_type": "display_data"
    },
    {
     "data": {
      "application/vnd.jupyter.widget-view+json": {
       "model_id": "b519c1c11bde466fada2180d1b8f3eae",
       "version_major": 2,
       "version_minor": 0
      },
      "text/plain": [
       "vocab.json:   0%|          | 0.00/899k [00:00<?, ?B/s]"
      ]
     },
     "metadata": {},
     "output_type": "display_data"
    },
    {
     "data": {
      "application/vnd.jupyter.widget-view+json": {
       "model_id": "27e52968f5c243048af706a05843eb0f",
       "version_major": 2,
       "version_minor": 0
      },
      "text/plain": [
       "merges.txt:   0%|          | 0.00/456k [00:00<?, ?B/s]"
      ]
     },
     "metadata": {},
     "output_type": "display_data"
    },
    {
     "data": {
      "application/vnd.jupyter.widget-view+json": {
       "model_id": "83c9d690dc554d4ebab25161ffe3a906",
       "version_major": 2,
       "version_minor": 0
      },
      "text/plain": [
       "special_tokens_map.json:   0%|          | 0.00/441 [00:00<?, ?B/s]"
      ]
     },
     "metadata": {},
     "output_type": "display_data"
    },
    {
     "name": "stderr",
     "output_type": "stream",
     "text": [
      "Testing batch sizes:   0%|          | 0/6 [00:00<?, ?it/s]"
     ]
    },
    {
     "name": "stdout",
     "output_type": "stream",
     "text": [
      "INFO 12-09 22:49:53 llm_engine.py:249] Initializing an LLM engine (v0.6.4.post1) with config: model='facebook/opt-125m', speculative_config=None, tokenizer='facebook/opt-125m', skip_tokenizer_init=False, tokenizer_mode=auto, revision=None, override_neuron_config=None, tokenizer_revision=None, trust_remote_code=False, dtype=torch.float16, max_seq_len=2048, download_dir=None, load_format=LoadFormat.AUTO, tensor_parallel_size=1, pipeline_parallel_size=1, disable_custom_all_reduce=False, quantization=None, enforce_eager=False, kv_cache_dtype=auto, quantization_param_path=None, device_config=cuda, decoding_config=DecodingConfig(guided_decoding_backend='outlines'), observability_config=ObservabilityConfig(otlp_traces_endpoint=None, collect_model_forward_time=False, collect_model_execute_time=False), seed=0, served_model_name=facebook/opt-125m, num_scheduler_steps=1, chunked_prefill_enabled=False multi_step_stream_outputs=True, enable_prefix_caching=False, use_async_output_proc=True, use_cached_outputs=False, chat_template_text_format=string, mm_processor_kwargs=None, pooler_config=None)\n"
     ]
    },
    {
     "data": {
      "application/vnd.jupyter.widget-view+json": {
       "model_id": "a6f7ef6a4a3b48e3b8af754415dd2f90",
       "version_major": 2,
       "version_minor": 0
      },
      "text/plain": [
       "generation_config.json:   0%|          | 0.00/137 [00:00<?, ?B/s]"
      ]
     },
     "metadata": {},
     "output_type": "display_data"
    },
    {
     "name": "stdout",
     "output_type": "stream",
     "text": [
      "INFO 12-09 22:49:54 selector.py:261] Cannot use FlashAttention-2 backend for Volta and Turing GPUs.\n",
      "INFO 12-09 22:49:54 selector.py:144] Using XFormers backend.\n",
      "INFO 12-09 22:49:55 model_runner.py:1072] Starting to load model facebook/opt-125m...\n",
      "INFO 12-09 22:49:55 weight_utils.py:243] Using model weights format ['*.bin']\n"
     ]
    },
    {
     "data": {
      "application/vnd.jupyter.widget-view+json": {
       "model_id": "df424f1cac0a4effa6eb8a0d941df20f",
       "version_major": 2,
       "version_minor": 0
      },
      "text/plain": [
       "pytorch_model.bin:   0%|          | 0.00/251M [00:00<?, ?B/s]"
      ]
     },
     "metadata": {},
     "output_type": "display_data"
    },
    {
     "data": {
      "application/vnd.jupyter.widget-view+json": {
       "model_id": "7dc835410897421b8a3ea4e9faafb547",
       "version_major": 2,
       "version_minor": 0
      },
      "text/plain": [
       "Loading pt checkpoint shards:   0% Completed | 0/1 [00:00<?, ?it/s]\n"
      ]
     },
     "metadata": {},
     "output_type": "display_data"
    },
    {
     "name": "stderr",
     "output_type": "stream",
     "text": [
      "/ext3/miniforge3/lib/python3.12/site-packages/vllm/model_executor/model_loader/weight_utils.py:425: FutureWarning: You are using `torch.load` with `weights_only=False` (the current default value), which uses the default pickle module implicitly. It is possible to construct malicious pickle data which will execute arbitrary code during unpickling (See https://github.com/pytorch/pytorch/blob/main/SECURITY.md#untrusted-models for more details). In a future release, the default value for `weights_only` will be flipped to `True`. This limits the functions that could be executed during unpickling. Arbitrary objects will no longer be allowed to be loaded via this mode unless they are explicitly allowlisted by the user via `torch.serialization.add_safe_globals`. We recommend you start setting `weights_only=True` for any use case where you don't have full control of the loaded file. Please open an issue on GitHub for any issues related to this experimental feature.\n",
      "  state = torch.load(bin_file, map_location=\"cpu\")\n"
     ]
    },
    {
     "name": "stdout",
     "output_type": "stream",
     "text": [
      "INFO 12-09 22:49:56 model_runner.py:1077] Loading model weights took 0.2389 GB\n",
      "INFO 12-09 22:49:58 worker.py:232] Memory profiling results: total_gpu_memory=44.48GiB initial_memory_usage=0.44GiB peak_torch_memory=0.71GiB memory_usage_post_profile=0.47GiB non_torch_memory=0.22GiB kv_cache_size=39.10GiB gpu_memory_utilization=0.90\n",
      "INFO 12-09 22:49:58 gpu_executor.py:113] # GPU blocks: 71186, # CPU blocks: 7281\n",
      "INFO 12-09 22:49:58 gpu_executor.py:117] Maximum concurrency for 2048 tokens per request: 556.14x\n",
      "INFO 12-09 22:50:01 model_runner.py:1400] Capturing cudagraphs for decoding. This may lead to unexpected consequences if the model is not static. To run the model in eager mode, set 'enforce_eager=True' or use '--enforce-eager' in the CLI.\n",
      "INFO 12-09 22:50:01 model_runner.py:1404] If out-of-memory error occurs during cudagraph capture, consider decreasing `gpu_memory_utilization` or switching to eager mode. You can also reduce the `max_num_seqs` as needed to decrease memory usage.\n",
      "INFO 12-09 22:50:15 model_runner.py:1518] Graph capturing finished in 13 secs, took 0.41 GiB\n"
     ]
    },
    {
     "name": "stderr",
     "output_type": "stream",
     "text": [
      "\n",
      "Processed prompts:   0%|          | 0/1 [00:00<?, ?it/s, est. speed input: 0.00 toks/s, output: 0.00 toks/s]\u001b[A\n",
      "Processed prompts: 100%|██████████| 1/1 [00:00<00:00,  2.74it/s, est. speed input: 354.35 toks/s, output: 175.79 toks/s]\u001b[A\n",
      "Testing batch sizes:  17%|█▋        | 1/6 [00:28<02:21, 28.38s/it]"
     ]
    },
    {
     "name": "stdout",
     "output_type": "stream",
     "text": [
      "INFO 12-09 22:50:16 llm_engine.py:249] Initializing an LLM engine (v0.6.4.post1) with config: model='facebook/opt-125m', speculative_config=None, tokenizer='facebook/opt-125m', skip_tokenizer_init=False, tokenizer_mode=auto, revision=None, override_neuron_config=None, tokenizer_revision=None, trust_remote_code=False, dtype=torch.float16, max_seq_len=2048, download_dir=None, load_format=LoadFormat.AUTO, tensor_parallel_size=1, pipeline_parallel_size=1, disable_custom_all_reduce=False, quantization=None, enforce_eager=False, kv_cache_dtype=auto, quantization_param_path=None, device_config=cuda, decoding_config=DecodingConfig(guided_decoding_backend='outlines'), observability_config=ObservabilityConfig(otlp_traces_endpoint=None, collect_model_forward_time=False, collect_model_execute_time=False), seed=0, served_model_name=facebook/opt-125m, num_scheduler_steps=1, chunked_prefill_enabled=False multi_step_stream_outputs=True, enable_prefix_caching=False, use_async_output_proc=True, use_cached_outputs=False, chat_template_text_format=string, mm_processor_kwargs=None, pooler_config=None)\n",
      "INFO 12-09 22:50:17 model_runner.py:1072] Starting to load model facebook/opt-125m...\n",
      "INFO 12-09 22:50:17 weight_utils.py:243] Using model weights format ['*.bin']\n"
     ]
    },
    {
     "data": {
      "application/vnd.jupyter.widget-view+json": {
       "model_id": "8f8dfab9a0c7404aa6d6802182b637d7",
       "version_major": 2,
       "version_minor": 0
      },
      "text/plain": [
       "Loading pt checkpoint shards:   0% Completed | 0/1 [00:00<?, ?it/s]\n"
      ]
     },
     "metadata": {},
     "output_type": "display_data"
    },
    {
     "name": "stdout",
     "output_type": "stream",
     "text": [
      "INFO 12-09 22:50:17 model_runner.py:1077] Loading model weights took 0.2397 GB\n",
      "INFO 12-09 22:50:17 worker.py:232] Memory profiling results: total_gpu_memory=44.48GiB initial_memory_usage=0.86GiB peak_torch_memory=0.72GiB memory_usage_post_profile=0.86GiB non_torch_memory=0.60GiB kv_cache_size=38.71GiB gpu_memory_utilization=0.90\n",
      "INFO 12-09 22:50:18 gpu_executor.py:113] # GPU blocks: 70471, # CPU blocks: 7281\n",
      "INFO 12-09 22:50:18 gpu_executor.py:117] Maximum concurrency for 2048 tokens per request: 550.55x\n",
      "INFO 12-09 22:50:18 model_runner.py:1400] Capturing cudagraphs for decoding. This may lead to unexpected consequences if the model is not static. To run the model in eager mode, set 'enforce_eager=True' or use '--enforce-eager' in the CLI.\n",
      "INFO 12-09 22:50:18 model_runner.py:1404] If out-of-memory error occurs during cudagraph capture, consider decreasing `gpu_memory_utilization` or switching to eager mode. You can also reduce the `max_num_seqs` as needed to decrease memory usage.\n",
      "INFO 12-09 22:50:30 model_runner.py:1518] Graph capturing finished in 13 secs, took 0.05 GiB\n"
     ]
    },
    {
     "name": "stderr",
     "output_type": "stream",
     "text": [
      "\n",
      "Processed prompts:   0%|          | 0/2 [00:00<?, ?it/s, est. speed input: 0.00 toks/s, output: 0.00 toks/s]\u001b[A\n",
      "Processed prompts: 100%|██████████| 2/2 [00:00<00:00, 10.35it/s, est. speed input: 1335.79 toks/s, output: 662.67 toks/s][A\n",
      "Testing batch sizes:  33%|███▎      | 2/6 [00:44<01:23, 20.88s/it]"
     ]
    },
    {
     "name": "stdout",
     "output_type": "stream",
     "text": [
      "INFO 12-09 22:50:32 llm_engine.py:249] Initializing an LLM engine (v0.6.4.post1) with config: model='facebook/opt-125m', speculative_config=None, tokenizer='facebook/opt-125m', skip_tokenizer_init=False, tokenizer_mode=auto, revision=None, override_neuron_config=None, tokenizer_revision=None, trust_remote_code=False, dtype=torch.float16, max_seq_len=2048, download_dir=None, load_format=LoadFormat.AUTO, tensor_parallel_size=1, pipeline_parallel_size=1, disable_custom_all_reduce=False, quantization=None, enforce_eager=False, kv_cache_dtype=auto, quantization_param_path=None, device_config=cuda, decoding_config=DecodingConfig(guided_decoding_backend='outlines'), observability_config=ObservabilityConfig(otlp_traces_endpoint=None, collect_model_forward_time=False, collect_model_execute_time=False), seed=0, served_model_name=facebook/opt-125m, num_scheduler_steps=1, chunked_prefill_enabled=False multi_step_stream_outputs=True, enable_prefix_caching=False, use_async_output_proc=True, use_cached_outputs=False, chat_template_text_format=string, mm_processor_kwargs=None, pooler_config=None)\n",
      "INFO 12-09 22:50:32 model_runner.py:1072] Starting to load model facebook/opt-125m...\n",
      "INFO 12-09 22:50:32 weight_utils.py:243] Using model weights format ['*.bin']\n"
     ]
    },
    {
     "data": {
      "application/vnd.jupyter.widget-view+json": {
       "model_id": "d711ff71035145c8a2067db5a74bbc70",
       "version_major": 2,
       "version_minor": 0
      },
      "text/plain": [
       "Loading pt checkpoint shards:   0% Completed | 0/1 [00:00<?, ?it/s]\n"
      ]
     },
     "metadata": {},
     "output_type": "display_data"
    },
    {
     "name": "stdout",
     "output_type": "stream",
     "text": [
      "INFO 12-09 22:50:33 model_runner.py:1077] Loading model weights took 0.2397 GB\n",
      "INFO 12-09 22:50:33 worker.py:232] Memory profiling results: total_gpu_memory=44.48GiB initial_memory_usage=0.88GiB peak_torch_memory=0.72GiB memory_usage_post_profile=0.88GiB non_torch_memory=0.62GiB kv_cache_size=38.69GiB gpu_memory_utilization=0.90\n",
      "INFO 12-09 22:50:33 gpu_executor.py:113] # GPU blocks: 70435, # CPU blocks: 7281\n",
      "INFO 12-09 22:50:33 gpu_executor.py:117] Maximum concurrency for 2048 tokens per request: 550.27x\n",
      "INFO 12-09 22:50:33 model_runner.py:1400] Capturing cudagraphs for decoding. This may lead to unexpected consequences if the model is not static. To run the model in eager mode, set 'enforce_eager=True' or use '--enforce-eager' in the CLI.\n",
      "INFO 12-09 22:50:33 model_runner.py:1404] If out-of-memory error occurs during cudagraph capture, consider decreasing `gpu_memory_utilization` or switching to eager mode. You can also reduce the `max_num_seqs` as needed to decrease memory usage.\n",
      "INFO 12-09 22:50:46 model_runner.py:1518] Graph capturing finished in 13 secs, took 0.05 GiB\n"
     ]
    },
    {
     "name": "stderr",
     "output_type": "stream",
     "text": [
      "\n",
      "Processed prompts:   0%|          | 0/4 [00:00<?, ?it/s, est. speed input: 0.00 toks/s, output: 0.00 toks/s]\u001b[A\n",
      "Processed prompts: 100%|██████████| 4/4 [00:00<00:00, 21.18it/s, est. speed input: 2732.98 toks/s, output: 1355.84 toks/s]A\n",
      "Testing batch sizes:  50%|█████     | 3/6 [00:59<00:55, 18.48s/it]"
     ]
    },
    {
     "name": "stdout",
     "output_type": "stream",
     "text": [
      "INFO 12-09 22:50:47 llm_engine.py:249] Initializing an LLM engine (v0.6.4.post1) with config: model='facebook/opt-125m', speculative_config=None, tokenizer='facebook/opt-125m', skip_tokenizer_init=False, tokenizer_mode=auto, revision=None, override_neuron_config=None, tokenizer_revision=None, trust_remote_code=False, dtype=torch.float16, max_seq_len=2048, download_dir=None, load_format=LoadFormat.AUTO, tensor_parallel_size=1, pipeline_parallel_size=1, disable_custom_all_reduce=False, quantization=None, enforce_eager=False, kv_cache_dtype=auto, quantization_param_path=None, device_config=cuda, decoding_config=DecodingConfig(guided_decoding_backend='outlines'), observability_config=ObservabilityConfig(otlp_traces_endpoint=None, collect_model_forward_time=False, collect_model_execute_time=False), seed=0, served_model_name=facebook/opt-125m, num_scheduler_steps=1, chunked_prefill_enabled=False multi_step_stream_outputs=True, enable_prefix_caching=False, use_async_output_proc=True, use_cached_outputs=False, chat_template_text_format=string, mm_processor_kwargs=None, pooler_config=None)\n",
      "INFO 12-09 22:50:48 model_runner.py:1072] Starting to load model facebook/opt-125m...\n",
      "INFO 12-09 22:50:48 weight_utils.py:243] Using model weights format ['*.bin']\n"
     ]
    },
    {
     "data": {
      "application/vnd.jupyter.widget-view+json": {
       "model_id": "2b3479fb9c4041da9500a437d4b06fac",
       "version_major": 2,
       "version_minor": 0
      },
      "text/plain": [
       "Loading pt checkpoint shards:   0% Completed | 0/1 [00:00<?, ?it/s]\n"
      ]
     },
     "metadata": {},
     "output_type": "display_data"
    },
    {
     "name": "stdout",
     "output_type": "stream",
     "text": [
      "INFO 12-09 22:50:49 model_runner.py:1077] Loading model weights took 0.2397 GB\n",
      "INFO 12-09 22:50:49 worker.py:232] Memory profiling results: total_gpu_memory=44.48GiB initial_memory_usage=0.90GiB peak_torch_memory=0.73GiB memory_usage_post_profile=0.90GiB non_torch_memory=0.63GiB kv_cache_size=38.67GiB gpu_memory_utilization=0.90\n",
      "INFO 12-09 22:50:49 gpu_executor.py:113] # GPU blocks: 70399, # CPU blocks: 7281\n",
      "INFO 12-09 22:50:49 gpu_executor.py:117] Maximum concurrency for 2048 tokens per request: 549.99x\n",
      "INFO 12-09 22:50:49 model_runner.py:1400] Capturing cudagraphs for decoding. This may lead to unexpected consequences if the model is not static. To run the model in eager mode, set 'enforce_eager=True' or use '--enforce-eager' in the CLI.\n",
      "INFO 12-09 22:50:49 model_runner.py:1404] If out-of-memory error occurs during cudagraph capture, consider decreasing `gpu_memory_utilization` or switching to eager mode. You can also reduce the `max_num_seqs` as needed to decrease memory usage.\n",
      "INFO 12-09 22:51:02 model_runner.py:1518] Graph capturing finished in 13 secs, took 0.05 GiB\n"
     ]
    },
    {
     "name": "stderr",
     "output_type": "stream",
     "text": [
      "\n",
      "Processed prompts:   0%|          | 0/8 [00:00<?, ?it/s, est. speed input: 0.00 toks/s, output: 0.00 toks/s]\u001b[A\n",
      "Processed prompts: 100%|██████████| 8/8 [00:00<00:00, 38.11it/s, est. speed input: 4917.53 toks/s, output: 2439.61 toks/s]A\n",
      "Testing batch sizes:  67%|██████▋   | 4/6 [01:15<00:34, 17.31s/it]"
     ]
    },
    {
     "name": "stdout",
     "output_type": "stream",
     "text": [
      "INFO 12-09 22:51:03 llm_engine.py:249] Initializing an LLM engine (v0.6.4.post1) with config: model='facebook/opt-125m', speculative_config=None, tokenizer='facebook/opt-125m', skip_tokenizer_init=False, tokenizer_mode=auto, revision=None, override_neuron_config=None, tokenizer_revision=None, trust_remote_code=False, dtype=torch.float16, max_seq_len=2048, download_dir=None, load_format=LoadFormat.AUTO, tensor_parallel_size=1, pipeline_parallel_size=1, disable_custom_all_reduce=False, quantization=None, enforce_eager=False, kv_cache_dtype=auto, quantization_param_path=None, device_config=cuda, decoding_config=DecodingConfig(guided_decoding_backend='outlines'), observability_config=ObservabilityConfig(otlp_traces_endpoint=None, collect_model_forward_time=False, collect_model_execute_time=False), seed=0, served_model_name=facebook/opt-125m, num_scheduler_steps=1, chunked_prefill_enabled=False multi_step_stream_outputs=True, enable_prefix_caching=False, use_async_output_proc=True, use_cached_outputs=False, chat_template_text_format=string, mm_processor_kwargs=None, pooler_config=None)\n",
      "INFO 12-09 22:51:03 model_runner.py:1072] Starting to load model facebook/opt-125m...\n",
      "INFO 12-09 22:51:03 weight_utils.py:243] Using model weights format ['*.bin']\n"
     ]
    },
    {
     "data": {
      "application/vnd.jupyter.widget-view+json": {
       "model_id": "ad88a6cecb40433598a255849a967070",
       "version_major": 2,
       "version_minor": 0
      },
      "text/plain": [
       "Loading pt checkpoint shards:   0% Completed | 0/1 [00:00<?, ?it/s]\n"
      ]
     },
     "metadata": {},
     "output_type": "display_data"
    },
    {
     "name": "stdout",
     "output_type": "stream",
     "text": [
      "INFO 12-09 22:51:04 model_runner.py:1077] Loading model weights took 0.2397 GB\n",
      "INFO 12-09 22:51:04 worker.py:232] Memory profiling results: total_gpu_memory=44.48GiB initial_memory_usage=0.92GiB peak_torch_memory=0.74GiB memory_usage_post_profile=0.92GiB non_torch_memory=0.64GiB kv_cache_size=38.65GiB gpu_memory_utilization=0.90\n",
      "INFO 12-09 22:51:04 gpu_executor.py:113] # GPU blocks: 70359, # CPU blocks: 7281\n",
      "INFO 12-09 22:51:04 gpu_executor.py:117] Maximum concurrency for 2048 tokens per request: 549.68x\n",
      "INFO 12-09 22:51:04 model_runner.py:1400] Capturing cudagraphs for decoding. This may lead to unexpected consequences if the model is not static. To run the model in eager mode, set 'enforce_eager=True' or use '--enforce-eager' in the CLI.\n",
      "INFO 12-09 22:51:04 model_runner.py:1404] If out-of-memory error occurs during cudagraph capture, consider decreasing `gpu_memory_utilization` or switching to eager mode. You can also reduce the `max_num_seqs` as needed to decrease memory usage.\n",
      "INFO 12-09 22:51:17 model_runner.py:1518] Graph capturing finished in 13 secs, took 0.05 GiB\n"
     ]
    },
    {
     "name": "stderr",
     "output_type": "stream",
     "text": [
      "\n",
      "Processed prompts:   0%|          | 0/16 [00:00<?, ?it/s, est. speed input: 0.00 toks/s, output: 0.00 toks/s]\u001b[A\n",
      "Processed prompts: 100%|██████████| 16/16 [00:00<00:00, 63.83it/s, est. speed input: 8236.30 toks/s, output: 4086.11 toks/s]\n",
      "Testing batch sizes:  83%|████████▎ | 5/6 [01:30<00:16, 16.69s/it]"
     ]
    },
    {
     "name": "stdout",
     "output_type": "stream",
     "text": [
      "INFO 12-09 22:51:18 llm_engine.py:249] Initializing an LLM engine (v0.6.4.post1) with config: model='facebook/opt-125m', speculative_config=None, tokenizer='facebook/opt-125m', skip_tokenizer_init=False, tokenizer_mode=auto, revision=None, override_neuron_config=None, tokenizer_revision=None, trust_remote_code=False, dtype=torch.float16, max_seq_len=2048, download_dir=None, load_format=LoadFormat.AUTO, tensor_parallel_size=1, pipeline_parallel_size=1, disable_custom_all_reduce=False, quantization=None, enforce_eager=False, kv_cache_dtype=auto, quantization_param_path=None, device_config=cuda, decoding_config=DecodingConfig(guided_decoding_backend='outlines'), observability_config=ObservabilityConfig(otlp_traces_endpoint=None, collect_model_forward_time=False, collect_model_execute_time=False), seed=0, served_model_name=facebook/opt-125m, num_scheduler_steps=1, chunked_prefill_enabled=False multi_step_stream_outputs=True, enable_prefix_caching=False, use_async_output_proc=True, use_cached_outputs=False, chat_template_text_format=string, mm_processor_kwargs=None, pooler_config=None)\n",
      "INFO 12-09 22:51:19 model_runner.py:1072] Starting to load model facebook/opt-125m...\n",
      "INFO 12-09 22:51:19 weight_utils.py:243] Using model weights format ['*.bin']\n"
     ]
    },
    {
     "data": {
      "application/vnd.jupyter.widget-view+json": {
       "model_id": "02a3da714f1d471ba3389465330378d9",
       "version_major": 2,
       "version_minor": 0
      },
      "text/plain": [
       "Loading pt checkpoint shards:   0% Completed | 0/1 [00:00<?, ?it/s]\n"
      ]
     },
     "metadata": {},
     "output_type": "display_data"
    },
    {
     "name": "stdout",
     "output_type": "stream",
     "text": [
      "INFO 12-09 22:51:20 model_runner.py:1077] Loading model weights took 0.2397 GB\n",
      "INFO 12-09 22:51:20 worker.py:232] Memory profiling results: total_gpu_memory=44.48GiB initial_memory_usage=0.94GiB peak_torch_memory=0.76GiB memory_usage_post_profile=0.94GiB non_torch_memory=0.65GiB kv_cache_size=38.62GiB gpu_memory_utilization=0.90\n",
      "INFO 12-09 22:51:20 gpu_executor.py:113] # GPU blocks: 70313, # CPU blocks: 7281\n",
      "INFO 12-09 22:51:20 gpu_executor.py:117] Maximum concurrency for 2048 tokens per request: 549.32x\n",
      "INFO 12-09 22:51:20 model_runner.py:1400] Capturing cudagraphs for decoding. This may lead to unexpected consequences if the model is not static. To run the model in eager mode, set 'enforce_eager=True' or use '--enforce-eager' in the CLI.\n",
      "INFO 12-09 22:51:20 model_runner.py:1404] If out-of-memory error occurs during cudagraph capture, consider decreasing `gpu_memory_utilization` or switching to eager mode. You can also reduce the `max_num_seqs` as needed to decrease memory usage.\n",
      "INFO 12-09 22:51:33 model_runner.py:1518] Graph capturing finished in 13 secs, took 0.05 GiB\n"
     ]
    },
    {
     "name": "stderr",
     "output_type": "stream",
     "text": [
      "\n",
      "Processed prompts:   0%|          | 0/32 [00:00<?, ?it/s, est. speed input: 0.00 toks/s, output: 0.00 toks/s]\u001b[A\n",
      "Processed prompts: 100%|██████████| 32/32 [00:00<00:00, 89.80it/s, est. speed input: 11585.62 toks/s, output: 5747.79 toks/s]\n",
      "Testing batch sizes: 100%|██████████| 6/6 [01:46<00:00, 17.74s/it]\n"
     ]
    },
    {
     "name": "stdout",
     "output_type": "stream",
     "text": [
      "Running sequence length experiments...\n"
     ]
    },
    {
     "name": "stderr",
     "output_type": "stream",
     "text": [
      "Testing sequence lengths:   0%|          | 0/5 [00:00<?, ?it/s]"
     ]
    },
    {
     "name": "stdout",
     "output_type": "stream",
     "text": [
      "INFO 12-09 22:51:34 llm_engine.py:249] Initializing an LLM engine (v0.6.4.post1) with config: model='facebook/opt-125m', speculative_config=None, tokenizer='facebook/opt-125m', skip_tokenizer_init=False, tokenizer_mode=auto, revision=None, override_neuron_config=None, tokenizer_revision=None, trust_remote_code=False, dtype=torch.float16, max_seq_len=2048, download_dir=None, load_format=LoadFormat.AUTO, tensor_parallel_size=1, pipeline_parallel_size=1, disable_custom_all_reduce=False, quantization=None, enforce_eager=False, kv_cache_dtype=auto, quantization_param_path=None, device_config=cuda, decoding_config=DecodingConfig(guided_decoding_backend='outlines'), observability_config=ObservabilityConfig(otlp_traces_endpoint=None, collect_model_forward_time=False, collect_model_execute_time=False), seed=0, served_model_name=facebook/opt-125m, num_scheduler_steps=1, chunked_prefill_enabled=False multi_step_stream_outputs=True, enable_prefix_caching=False, use_async_output_proc=True, use_cached_outputs=False, chat_template_text_format=string, mm_processor_kwargs=None, pooler_config=None)\n",
      "INFO 12-09 22:51:35 model_runner.py:1072] Starting to load model facebook/opt-125m...\n",
      "INFO 12-09 22:51:35 weight_utils.py:243] Using model weights format ['*.bin']\n"
     ]
    },
    {
     "data": {
      "application/vnd.jupyter.widget-view+json": {
       "model_id": "c2a770c789ed4110a0f04507089d1f7a",
       "version_major": 2,
       "version_minor": 0
      },
      "text/plain": [
       "Loading pt checkpoint shards:   0% Completed | 0/1 [00:00<?, ?it/s]\n"
      ]
     },
     "metadata": {},
     "output_type": "display_data"
    },
    {
     "name": "stdout",
     "output_type": "stream",
     "text": [
      "INFO 12-09 22:51:36 model_runner.py:1077] Loading model weights took 0.2397 GB\n",
      "INFO 12-09 22:51:36 worker.py:232] Memory profiling results: total_gpu_memory=44.48GiB initial_memory_usage=0.96GiB peak_torch_memory=0.76GiB memory_usage_post_profile=0.96GiB non_torch_memory=0.66GiB kv_cache_size=38.61GiB gpu_memory_utilization=0.90\n",
      "INFO 12-09 22:51:36 gpu_executor.py:113] # GPU blocks: 70293, # CPU blocks: 7281\n",
      "INFO 12-09 22:51:36 gpu_executor.py:117] Maximum concurrency for 2048 tokens per request: 549.16x\n",
      "INFO 12-09 22:51:36 model_runner.py:1400] Capturing cudagraphs for decoding. This may lead to unexpected consequences if the model is not static. To run the model in eager mode, set 'enforce_eager=True' or use '--enforce-eager' in the CLI.\n",
      "INFO 12-09 22:51:36 model_runner.py:1404] If out-of-memory error occurs during cudagraph capture, consider decreasing `gpu_memory_utilization` or switching to eager mode. You can also reduce the `max_num_seqs` as needed to decrease memory usage.\n",
      "INFO 12-09 22:51:49 model_runner.py:1518] Graph capturing finished in 13 secs, took 0.05 GiB\n"
     ]
    },
    {
     "name": "stderr",
     "output_type": "stream",
     "text": [
      "\n",
      "Processed prompts: 100%|██████████| 16/16 [00:00<00:00, 229.30it/s, est. speed input: 7588.46 toks/s, output: 3678.95 toks/s]\n",
      "Testing sequence lengths:  20%|██        | 1/5 [00:15<01:02, 15.51s/it]"
     ]
    },
    {
     "name": "stdout",
     "output_type": "stream",
     "text": [
      "INFO 12-09 22:51:50 llm_engine.py:249] Initializing an LLM engine (v0.6.4.post1) with config: model='facebook/opt-125m', speculative_config=None, tokenizer='facebook/opt-125m', skip_tokenizer_init=False, tokenizer_mode=auto, revision=None, override_neuron_config=None, tokenizer_revision=None, trust_remote_code=False, dtype=torch.float16, max_seq_len=2048, download_dir=None, load_format=LoadFormat.AUTO, tensor_parallel_size=1, pipeline_parallel_size=1, disable_custom_all_reduce=False, quantization=None, enforce_eager=False, kv_cache_dtype=auto, quantization_param_path=None, device_config=cuda, decoding_config=DecodingConfig(guided_decoding_backend='outlines'), observability_config=ObservabilityConfig(otlp_traces_endpoint=None, collect_model_forward_time=False, collect_model_execute_time=False), seed=0, served_model_name=facebook/opt-125m, num_scheduler_steps=1, chunked_prefill_enabled=False multi_step_stream_outputs=True, enable_prefix_caching=False, use_async_output_proc=True, use_cached_outputs=False, chat_template_text_format=string, mm_processor_kwargs=None, pooler_config=None)\n",
      "INFO 12-09 22:51:50 model_runner.py:1072] Starting to load model facebook/opt-125m...\n",
      "INFO 12-09 22:51:50 weight_utils.py:243] Using model weights format ['*.bin']\n"
     ]
    },
    {
     "data": {
      "application/vnd.jupyter.widget-view+json": {
       "model_id": "e28bd7008a38447d8fbaeac3633ed730",
       "version_major": 2,
       "version_minor": 0
      },
      "text/plain": [
       "Loading pt checkpoint shards:   0% Completed | 0/1 [00:00<?, ?it/s]\n"
      ]
     },
     "metadata": {},
     "output_type": "display_data"
    },
    {
     "name": "stdout",
     "output_type": "stream",
     "text": [
      "INFO 12-09 22:51:51 model_runner.py:1077] Loading model weights took 0.2397 GB\n",
      "INFO 12-09 22:51:51 worker.py:232] Memory profiling results: total_gpu_memory=44.48GiB initial_memory_usage=0.98GiB peak_torch_memory=0.76GiB memory_usage_post_profile=0.98GiB non_torch_memory=0.67GiB kv_cache_size=38.59GiB gpu_memory_utilization=0.90\n",
      "INFO 12-09 22:51:51 gpu_executor.py:113] # GPU blocks: 70257, # CPU blocks: 7281\n",
      "INFO 12-09 22:51:51 gpu_executor.py:117] Maximum concurrency for 2048 tokens per request: 548.88x\n",
      "INFO 12-09 22:51:51 model_runner.py:1400] Capturing cudagraphs for decoding. This may lead to unexpected consequences if the model is not static. To run the model in eager mode, set 'enforce_eager=True' or use '--enforce-eager' in the CLI.\n",
      "INFO 12-09 22:51:51 model_runner.py:1404] If out-of-memory error occurs during cudagraph capture, consider decreasing `gpu_memory_utilization` or switching to eager mode. You can also reduce the `max_num_seqs` as needed to decrease memory usage.\n",
      "INFO 12-09 22:52:04 model_runner.py:1518] Graph capturing finished in 13 secs, took 0.05 GiB\n"
     ]
    },
    {
     "name": "stderr",
     "output_type": "stream",
     "text": [
      "\n",
      "Processed prompts:   0%|          | 0/16 [00:00<?, ?it/s, est. speed input: 0.00 toks/s, output: 0.00 toks/s]\u001b[A\n",
      "Processed prompts: 100%|██████████| 16/16 [00:00<00:00, 123.31it/s, est. speed input: 8018.71 toks/s, output: 3947.45 toks/s]\n",
      "Testing sequence lengths:  40%|████      | 2/5 [00:30<00:46, 15.44s/it]"
     ]
    },
    {
     "name": "stdout",
     "output_type": "stream",
     "text": [
      "INFO 12-09 22:52:05 llm_engine.py:249] Initializing an LLM engine (v0.6.4.post1) with config: model='facebook/opt-125m', speculative_config=None, tokenizer='facebook/opt-125m', skip_tokenizer_init=False, tokenizer_mode=auto, revision=None, override_neuron_config=None, tokenizer_revision=None, trust_remote_code=False, dtype=torch.float16, max_seq_len=2048, download_dir=None, load_format=LoadFormat.AUTO, tensor_parallel_size=1, pipeline_parallel_size=1, disable_custom_all_reduce=False, quantization=None, enforce_eager=False, kv_cache_dtype=auto, quantization_param_path=None, device_config=cuda, decoding_config=DecodingConfig(guided_decoding_backend='outlines'), observability_config=ObservabilityConfig(otlp_traces_endpoint=None, collect_model_forward_time=False, collect_model_execute_time=False), seed=0, served_model_name=facebook/opt-125m, num_scheduler_steps=1, chunked_prefill_enabled=False multi_step_stream_outputs=True, enable_prefix_caching=False, use_async_output_proc=True, use_cached_outputs=False, chat_template_text_format=string, mm_processor_kwargs=None, pooler_config=None)\n",
      "INFO 12-09 22:52:06 model_runner.py:1072] Starting to load model facebook/opt-125m...\n",
      "INFO 12-09 22:52:06 weight_utils.py:243] Using model weights format ['*.bin']\n"
     ]
    },
    {
     "data": {
      "application/vnd.jupyter.widget-view+json": {
       "model_id": "34658ae44d504ae9b200318d71ffc932",
       "version_major": 2,
       "version_minor": 0
      },
      "text/plain": [
       "Loading pt checkpoint shards:   0% Completed | 0/1 [00:00<?, ?it/s]\n"
      ]
     },
     "metadata": {},
     "output_type": "display_data"
    },
    {
     "name": "stdout",
     "output_type": "stream",
     "text": [
      "INFO 12-09 22:52:06 model_runner.py:1077] Loading model weights took 0.2397 GB\n",
      "INFO 12-09 22:52:06 worker.py:232] Memory profiling results: total_gpu_memory=44.48GiB initial_memory_usage=1.00GiB peak_torch_memory=0.78GiB memory_usage_post_profile=1.00GiB non_torch_memory=0.69GiB kv_cache_size=38.57GiB gpu_memory_utilization=0.90\n",
      "INFO 12-09 22:52:07 gpu_executor.py:113] # GPU blocks: 70217, # CPU blocks: 7281\n",
      "INFO 12-09 22:52:07 gpu_executor.py:117] Maximum concurrency for 2048 tokens per request: 548.57x\n",
      "INFO 12-09 22:52:07 model_runner.py:1400] Capturing cudagraphs for decoding. This may lead to unexpected consequences if the model is not static. To run the model in eager mode, set 'enforce_eager=True' or use '--enforce-eager' in the CLI.\n",
      "INFO 12-09 22:52:07 model_runner.py:1404] If out-of-memory error occurs during cudagraph capture, consider decreasing `gpu_memory_utilization` or switching to eager mode. You can also reduce the `max_num_seqs` as needed to decrease memory usage.\n",
      "INFO 12-09 22:52:19 model_runner.py:1518] Graph capturing finished in 13 secs, took 0.05 GiB\n"
     ]
    },
    {
     "name": "stderr",
     "output_type": "stream",
     "text": [
      "\n",
      "Processed prompts:   0%|          | 0/16 [00:00<?, ?it/s, est. speed input: 0.00 toks/s, output: 0.00 toks/s]\u001b[A\n",
      "Processed prompts: 100%|██████████| 16/16 [00:00<00:00, 62.27it/s, est. speed input: 8035.08 toks/s, output: 3986.28 toks/s]\n",
      "Testing sequence lengths:  60%|██████    | 3/5 [00:46<00:31, 15.50s/it]"
     ]
    },
    {
     "name": "stdout",
     "output_type": "stream",
     "text": [
      "INFO 12-09 22:52:21 llm_engine.py:249] Initializing an LLM engine (v0.6.4.post1) with config: model='facebook/opt-125m', speculative_config=None, tokenizer='facebook/opt-125m', skip_tokenizer_init=False, tokenizer_mode=auto, revision=None, override_neuron_config=None, tokenizer_revision=None, trust_remote_code=False, dtype=torch.float16, max_seq_len=2048, download_dir=None, load_format=LoadFormat.AUTO, tensor_parallel_size=1, pipeline_parallel_size=1, disable_custom_all_reduce=False, quantization=None, enforce_eager=False, kv_cache_dtype=auto, quantization_param_path=None, device_config=cuda, decoding_config=DecodingConfig(guided_decoding_backend='outlines'), observability_config=ObservabilityConfig(otlp_traces_endpoint=None, collect_model_forward_time=False, collect_model_execute_time=False), seed=0, served_model_name=facebook/opt-125m, num_scheduler_steps=1, chunked_prefill_enabled=False multi_step_stream_outputs=True, enable_prefix_caching=False, use_async_output_proc=True, use_cached_outputs=False, chat_template_text_format=string, mm_processor_kwargs=None, pooler_config=None)\n",
      "INFO 12-09 22:52:21 model_runner.py:1072] Starting to load model facebook/opt-125m...\n",
      "INFO 12-09 22:52:21 weight_utils.py:243] Using model weights format ['*.bin']\n"
     ]
    },
    {
     "data": {
      "application/vnd.jupyter.widget-view+json": {
       "model_id": "f31234c20b4143c6b7f2036a2cf7ee90",
       "version_major": 2,
       "version_minor": 0
      },
      "text/plain": [
       "Loading pt checkpoint shards:   0% Completed | 0/1 [00:00<?, ?it/s]\n"
      ]
     },
     "metadata": {},
     "output_type": "display_data"
    },
    {
     "name": "stdout",
     "output_type": "stream",
     "text": [
      "INFO 12-09 22:52:22 model_runner.py:1077] Loading model weights took 0.2397 GB\n",
      "INFO 12-09 22:52:22 worker.py:232] Memory profiling results: total_gpu_memory=44.48GiB initial_memory_usage=1.02GiB peak_torch_memory=0.79GiB memory_usage_post_profile=1.02GiB non_torch_memory=0.70GiB kv_cache_size=38.55GiB gpu_memory_utilization=0.90\n",
      "INFO 12-09 22:52:22 gpu_executor.py:113] # GPU blocks: 70171, # CPU blocks: 7281\n",
      "INFO 12-09 22:52:22 gpu_executor.py:117] Maximum concurrency for 2048 tokens per request: 548.21x\n",
      "INFO 12-09 22:52:22 model_runner.py:1400] Capturing cudagraphs for decoding. This may lead to unexpected consequences if the model is not static. To run the model in eager mode, set 'enforce_eager=True' or use '--enforce-eager' in the CLI.\n",
      "INFO 12-09 22:52:22 model_runner.py:1404] If out-of-memory error occurs during cudagraph capture, consider decreasing `gpu_memory_utilization` or switching to eager mode. You can also reduce the `max_num_seqs` as needed to decrease memory usage.\n",
      "INFO 12-09 22:52:35 model_runner.py:1518] Graph capturing finished in 13 secs, took 0.05 GiB\n"
     ]
    },
    {
     "name": "stderr",
     "output_type": "stream",
     "text": [
      "\n",
      "Processed prompts:   0%|          | 0/16 [00:00<?, ?it/s, est. speed input: 0.00 toks/s, output: 0.00 toks/s]\u001b[A\n",
      "Processed prompts: 100%|██████████| 16/16 [00:00<00:00, 31.46it/s, est. speed input: 8085.76 toks/s, output: 4027.09 toks/s]\n",
      "Testing sequence lengths:  80%|████████  | 4/5 [01:02<00:15, 15.70s/it]"
     ]
    },
    {
     "name": "stdout",
     "output_type": "stream",
     "text": [
      "INFO 12-09 22:52:37 llm_engine.py:249] Initializing an LLM engine (v0.6.4.post1) with config: model='facebook/opt-125m', speculative_config=None, tokenizer='facebook/opt-125m', skip_tokenizer_init=False, tokenizer_mode=auto, revision=None, override_neuron_config=None, tokenizer_revision=None, trust_remote_code=False, dtype=torch.float16, max_seq_len=2048, download_dir=None, load_format=LoadFormat.AUTO, tensor_parallel_size=1, pipeline_parallel_size=1, disable_custom_all_reduce=False, quantization=None, enforce_eager=False, kv_cache_dtype=auto, quantization_param_path=None, device_config=cuda, decoding_config=DecodingConfig(guided_decoding_backend='outlines'), observability_config=ObservabilityConfig(otlp_traces_endpoint=None, collect_model_forward_time=False, collect_model_execute_time=False), seed=0, served_model_name=facebook/opt-125m, num_scheduler_steps=1, chunked_prefill_enabled=False multi_step_stream_outputs=True, enable_prefix_caching=False, use_async_output_proc=True, use_cached_outputs=False, chat_template_text_format=string, mm_processor_kwargs=None, pooler_config=None)\n",
      "INFO 12-09 22:52:37 model_runner.py:1072] Starting to load model facebook/opt-125m...\n",
      "INFO 12-09 22:52:37 weight_utils.py:243] Using model weights format ['*.bin']\n"
     ]
    },
    {
     "data": {
      "application/vnd.jupyter.widget-view+json": {
       "model_id": "59de375b975f4a7fb96f49d8b1e1005d",
       "version_major": 2,
       "version_minor": 0
      },
      "text/plain": [
       "Loading pt checkpoint shards:   0% Completed | 0/1 [00:00<?, ?it/s]\n"
      ]
     },
     "metadata": {},
     "output_type": "display_data"
    },
    {
     "name": "stdout",
     "output_type": "stream",
     "text": [
      "INFO 12-09 22:52:38 model_runner.py:1077] Loading model weights took 0.2397 GB\n",
      "INFO 12-09 22:52:38 worker.py:232] Memory profiling results: total_gpu_memory=44.48GiB initial_memory_usage=1.04GiB peak_torch_memory=0.81GiB memory_usage_post_profile=1.04GiB non_torch_memory=0.71GiB kv_cache_size=38.52GiB gpu_memory_utilization=0.90\n",
      "INFO 12-09 22:52:38 gpu_executor.py:113] # GPU blocks: 70117, # CPU blocks: 7281\n",
      "INFO 12-09 22:52:38 gpu_executor.py:117] Maximum concurrency for 2048 tokens per request: 547.79x\n",
      "INFO 12-09 22:52:38 model_runner.py:1400] Capturing cudagraphs for decoding. This may lead to unexpected consequences if the model is not static. To run the model in eager mode, set 'enforce_eager=True' or use '--enforce-eager' in the CLI.\n",
      "INFO 12-09 22:52:38 model_runner.py:1404] If out-of-memory error occurs during cudagraph capture, consider decreasing `gpu_memory_utilization` or switching to eager mode. You can also reduce the `max_num_seqs` as needed to decrease memory usage.\n",
      "INFO 12-09 22:52:51 model_runner.py:1518] Graph capturing finished in 13 secs, took 0.05 GiB\n"
     ]
    },
    {
     "name": "stderr",
     "output_type": "stream",
     "text": [
      "\n",
      "Processed prompts:   0%|          | 0/16 [00:00<?, ?it/s, est. speed input: 0.00 toks/s, output: 0.00 toks/s]\u001b[A\n",
      "Processed prompts: 100%|██████████| 16/16 [00:01<00:00, 14.60it/s, est. speed input: 7488.21 toks/s, output: 3736.78 toks/s]\n",
      "Testing sequence lengths: 100%|██████████| 5/5 [01:19<00:00, 15.81s/it]\n"
     ]
    },
    {
     "name": "stdout",
     "output_type": "stream",
     "text": [
      "Running request count experiments...\n"
     ]
    },
    {
     "name": "stderr",
     "output_type": "stream",
     "text": [
      "Testing request counts:   0%|          | 0/5 [00:00<?, ?it/s]"
     ]
    },
    {
     "name": "stdout",
     "output_type": "stream",
     "text": [
      "INFO 12-09 22:52:54 llm_engine.py:249] Initializing an LLM engine (v0.6.4.post1) with config: model='facebook/opt-125m', speculative_config=None, tokenizer='facebook/opt-125m', skip_tokenizer_init=False, tokenizer_mode=auto, revision=None, override_neuron_config=None, tokenizer_revision=None, trust_remote_code=False, dtype=torch.float16, max_seq_len=2048, download_dir=None, load_format=LoadFormat.AUTO, tensor_parallel_size=1, pipeline_parallel_size=1, disable_custom_all_reduce=False, quantization=None, enforce_eager=False, kv_cache_dtype=auto, quantization_param_path=None, device_config=cuda, decoding_config=DecodingConfig(guided_decoding_backend='outlines'), observability_config=ObservabilityConfig(otlp_traces_endpoint=None, collect_model_forward_time=False, collect_model_execute_time=False), seed=0, served_model_name=facebook/opt-125m, num_scheduler_steps=1, chunked_prefill_enabled=False multi_step_stream_outputs=True, enable_prefix_caching=False, use_async_output_proc=True, use_cached_outputs=False, chat_template_text_format=string, mm_processor_kwargs=None, pooler_config=None)\n",
      "INFO 12-09 22:52:54 model_runner.py:1072] Starting to load model facebook/opt-125m...\n",
      "INFO 12-09 22:52:54 weight_utils.py:243] Using model weights format ['*.bin']\n"
     ]
    },
    {
     "data": {
      "application/vnd.jupyter.widget-view+json": {
       "model_id": "4e129088be604287a8c3d071c0df131d",
       "version_major": 2,
       "version_minor": 0
      },
      "text/plain": [
       "Loading pt checkpoint shards:   0% Completed | 0/1 [00:00<?, ?it/s]\n"
      ]
     },
     "metadata": {},
     "output_type": "display_data"
    },
    {
     "name": "stdout",
     "output_type": "stream",
     "text": [
      "INFO 12-09 22:52:55 model_runner.py:1077] Loading model weights took 0.2397 GB\n",
      "INFO 12-09 22:52:55 worker.py:232] Memory profiling results: total_gpu_memory=44.48GiB initial_memory_usage=1.06GiB peak_torch_memory=0.80GiB memory_usage_post_profile=1.06GiB non_torch_memory=0.72GiB kv_cache_size=38.52GiB gpu_memory_utilization=0.90\n",
      "INFO 12-09 22:52:55 gpu_executor.py:113] # GPU blocks: 70115, # CPU blocks: 7281\n",
      "INFO 12-09 22:52:55 gpu_executor.py:117] Maximum concurrency for 2048 tokens per request: 547.77x\n",
      "INFO 12-09 22:52:55 model_runner.py:1400] Capturing cudagraphs for decoding. This may lead to unexpected consequences if the model is not static. To run the model in eager mode, set 'enforce_eager=True' or use '--enforce-eager' in the CLI.\n",
      "INFO 12-09 22:52:55 model_runner.py:1404] If out-of-memory error occurs during cudagraph capture, consider decreasing `gpu_memory_utilization` or switching to eager mode. You can also reduce the `max_num_seqs` as needed to decrease memory usage.\n",
      "INFO 12-09 22:53:08 model_runner.py:1518] Graph capturing finished in 13 secs, took 0.05 GiB\n"
     ]
    },
    {
     "name": "stderr",
     "output_type": "stream",
     "text": [
      "\n",
      "Processed prompts:   0%|          | 0/10 [00:00<?, ?it/s, est. speed input: 0.00 toks/s, output: 0.00 toks/s]\u001b[A\n",
      "Processed prompts: 100%|██████████| 10/10 [00:00<00:00, 45.44it/s, est. speed input: 5862.97 toks/s, output: 2908.66 toks/s]\n",
      "Testing request counts:  20%|██        | 1/5 [00:15<01:03, 15.86s/it]"
     ]
    },
    {
     "name": "stdout",
     "output_type": "stream",
     "text": [
      "INFO 12-09 22:53:09 llm_engine.py:249] Initializing an LLM engine (v0.6.4.post1) with config: model='facebook/opt-125m', speculative_config=None, tokenizer='facebook/opt-125m', skip_tokenizer_init=False, tokenizer_mode=auto, revision=None, override_neuron_config=None, tokenizer_revision=None, trust_remote_code=False, dtype=torch.float16, max_seq_len=2048, download_dir=None, load_format=LoadFormat.AUTO, tensor_parallel_size=1, pipeline_parallel_size=1, disable_custom_all_reduce=False, quantization=None, enforce_eager=False, kv_cache_dtype=auto, quantization_param_path=None, device_config=cuda, decoding_config=DecodingConfig(guided_decoding_backend='outlines'), observability_config=ObservabilityConfig(otlp_traces_endpoint=None, collect_model_forward_time=False, collect_model_execute_time=False), seed=0, served_model_name=facebook/opt-125m, num_scheduler_steps=1, chunked_prefill_enabled=False multi_step_stream_outputs=True, enable_prefix_caching=False, use_async_output_proc=True, use_cached_outputs=False, chat_template_text_format=string, mm_processor_kwargs=None, pooler_config=None)\n",
      "INFO 12-09 22:53:10 model_runner.py:1072] Starting to load model facebook/opt-125m...\n",
      "INFO 12-09 22:53:10 weight_utils.py:243] Using model weights format ['*.bin']\n"
     ]
    },
    {
     "data": {
      "application/vnd.jupyter.widget-view+json": {
       "model_id": "a8bafed09ac24f66a2ba5ffb525ea854",
       "version_major": 2,
       "version_minor": 0
      },
      "text/plain": [
       "Loading pt checkpoint shards:   0% Completed | 0/1 [00:00<?, ?it/s]\n"
      ]
     },
     "metadata": {},
     "output_type": "display_data"
    },
    {
     "name": "stdout",
     "output_type": "stream",
     "text": [
      "INFO 12-09 22:53:10 model_runner.py:1077] Loading model weights took 0.2397 GB\n",
      "INFO 12-09 22:53:11 worker.py:232] Memory profiling results: total_gpu_memory=44.48GiB initial_memory_usage=1.08GiB peak_torch_memory=0.80GiB memory_usage_post_profile=1.08GiB non_torch_memory=0.73GiB kv_cache_size=38.50GiB gpu_memory_utilization=0.90\n",
      "INFO 12-09 22:53:11 gpu_executor.py:113] # GPU blocks: 70079, # CPU blocks: 7281\n",
      "INFO 12-09 22:53:11 gpu_executor.py:117] Maximum concurrency for 2048 tokens per request: 547.49x\n",
      "INFO 12-09 22:53:11 model_runner.py:1400] Capturing cudagraphs for decoding. This may lead to unexpected consequences if the model is not static. To run the model in eager mode, set 'enforce_eager=True' or use '--enforce-eager' in the CLI.\n",
      "INFO 12-09 22:53:11 model_runner.py:1404] If out-of-memory error occurs during cudagraph capture, consider decreasing `gpu_memory_utilization` or switching to eager mode. You can also reduce the `max_num_seqs` as needed to decrease memory usage.\n",
      "INFO 12-09 22:53:24 model_runner.py:1518] Graph capturing finished in 13 secs, took 0.05 GiB\n"
     ]
    },
    {
     "name": "stderr",
     "output_type": "stream",
     "text": [
      "\n",
      "Processed prompts:   0%|          | 0/50 [00:00<?, ?it/s, est. speed input: 0.00 toks/s, output: 0.00 toks/s]\u001b[A\n",
      "Processed prompts: 100%|██████████| 50/50 [00:00<00:00, 104.58it/s, est. speed input: 13492.78 toks/s, output: 6693.98 toks/s]\n",
      "Testing request counts:  40%|████      | 2/5 [00:31<00:47, 15.88s/it]"
     ]
    },
    {
     "name": "stdout",
     "output_type": "stream",
     "text": [
      "INFO 12-09 22:53:26 llm_engine.py:249] Initializing an LLM engine (v0.6.4.post1) with config: model='facebook/opt-125m', speculative_config=None, tokenizer='facebook/opt-125m', skip_tokenizer_init=False, tokenizer_mode=auto, revision=None, override_neuron_config=None, tokenizer_revision=None, trust_remote_code=False, dtype=torch.float16, max_seq_len=2048, download_dir=None, load_format=LoadFormat.AUTO, tensor_parallel_size=1, pipeline_parallel_size=1, disable_custom_all_reduce=False, quantization=None, enforce_eager=False, kv_cache_dtype=auto, quantization_param_path=None, device_config=cuda, decoding_config=DecodingConfig(guided_decoding_backend='outlines'), observability_config=ObservabilityConfig(otlp_traces_endpoint=None, collect_model_forward_time=False, collect_model_execute_time=False), seed=0, served_model_name=facebook/opt-125m, num_scheduler_steps=1, chunked_prefill_enabled=False multi_step_stream_outputs=True, enable_prefix_caching=False, use_async_output_proc=True, use_cached_outputs=False, chat_template_text_format=string, mm_processor_kwargs=None, pooler_config=None)\n",
      "INFO 12-09 22:53:26 model_runner.py:1072] Starting to load model facebook/opt-125m...\n",
      "INFO 12-09 22:53:26 weight_utils.py:243] Using model weights format ['*.bin']\n"
     ]
    },
    {
     "data": {
      "application/vnd.jupyter.widget-view+json": {
       "model_id": "75ce647bcc6e44779edea4c3282a1c10",
       "version_major": 2,
       "version_minor": 0
      },
      "text/plain": [
       "Loading pt checkpoint shards:   0% Completed | 0/1 [00:00<?, ?it/s]\n"
      ]
     },
     "metadata": {},
     "output_type": "display_data"
    },
    {
     "name": "stdout",
     "output_type": "stream",
     "text": [
      "INFO 12-09 22:53:27 model_runner.py:1077] Loading model weights took 0.2397 GB\n",
      "INFO 12-09 22:53:27 worker.py:232] Memory profiling results: total_gpu_memory=44.48GiB initial_memory_usage=1.09GiB peak_torch_memory=0.81GiB memory_usage_post_profile=1.09GiB non_torch_memory=0.74GiB kv_cache_size=38.48GiB gpu_memory_utilization=0.90\n",
      "INFO 12-09 22:53:27 gpu_executor.py:113] # GPU blocks: 70044, # CPU blocks: 7281\n",
      "INFO 12-09 22:53:27 gpu_executor.py:117] Maximum concurrency for 2048 tokens per request: 547.22x\n",
      "INFO 12-09 22:53:27 model_runner.py:1400] Capturing cudagraphs for decoding. This may lead to unexpected consequences if the model is not static. To run the model in eager mode, set 'enforce_eager=True' or use '--enforce-eager' in the CLI.\n",
      "INFO 12-09 22:53:27 model_runner.py:1404] If out-of-memory error occurs during cudagraph capture, consider decreasing `gpu_memory_utilization` or switching to eager mode. You can also reduce the `max_num_seqs` as needed to decrease memory usage.\n",
      "INFO 12-09 22:53:40 model_runner.py:1518] Graph capturing finished in 13 secs, took 0.05 GiB\n"
     ]
    },
    {
     "name": "stderr",
     "output_type": "stream",
     "text": [
      "\n",
      "Processed prompts:   0%|          | 0/100 [00:00<?, ?it/s, est. speed input: 0.00 toks/s, output: 0.00 toks/s]\u001b[A\n",
      "Processed prompts: 100%|██████████| 100/100 [00:00<00:00, 119.67it/s, est. speed input: 15439.20 toks/s, output: 7659.69 toks/s]\n",
      "Testing request counts:  60%|██████    | 3/5 [00:48<00:32, 16.18s/it]"
     ]
    },
    {
     "name": "stdout",
     "output_type": "stream",
     "text": [
      "INFO 12-09 22:53:42 llm_engine.py:249] Initializing an LLM engine (v0.6.4.post1) with config: model='facebook/opt-125m', speculative_config=None, tokenizer='facebook/opt-125m', skip_tokenizer_init=False, tokenizer_mode=auto, revision=None, override_neuron_config=None, tokenizer_revision=None, trust_remote_code=False, dtype=torch.float16, max_seq_len=2048, download_dir=None, load_format=LoadFormat.AUTO, tensor_parallel_size=1, pipeline_parallel_size=1, disable_custom_all_reduce=False, quantization=None, enforce_eager=False, kv_cache_dtype=auto, quantization_param_path=None, device_config=cuda, decoding_config=DecodingConfig(guided_decoding_backend='outlines'), observability_config=ObservabilityConfig(otlp_traces_endpoint=None, collect_model_forward_time=False, collect_model_execute_time=False), seed=0, served_model_name=facebook/opt-125m, num_scheduler_steps=1, chunked_prefill_enabled=False multi_step_stream_outputs=True, enable_prefix_caching=False, use_async_output_proc=True, use_cached_outputs=False, chat_template_text_format=string, mm_processor_kwargs=None, pooler_config=None)\n",
      "INFO 12-09 22:53:42 model_runner.py:1072] Starting to load model facebook/opt-125m...\n",
      "INFO 12-09 22:53:42 weight_utils.py:243] Using model weights format ['*.bin']\n"
     ]
    },
    {
     "data": {
      "application/vnd.jupyter.widget-view+json": {
       "model_id": "4a1516b1977240b1b59dc6a76f51671c",
       "version_major": 2,
       "version_minor": 0
      },
      "text/plain": [
       "Loading pt checkpoint shards:   0% Completed | 0/1 [00:00<?, ?it/s]\n"
      ]
     },
     "metadata": {},
     "output_type": "display_data"
    },
    {
     "name": "stdout",
     "output_type": "stream",
     "text": [
      "INFO 12-09 22:53:43 model_runner.py:1077] Loading model weights took 0.2397 GB\n",
      "INFO 12-09 22:53:43 worker.py:232] Memory profiling results: total_gpu_memory=44.48GiB initial_memory_usage=1.11GiB peak_torch_memory=0.82GiB memory_usage_post_profile=1.11GiB non_torch_memory=0.76GiB kv_cache_size=38.46GiB gpu_memory_utilization=0.90\n",
      "INFO 12-09 22:53:43 gpu_executor.py:113] # GPU blocks: 70008, # CPU blocks: 7281\n",
      "INFO 12-09 22:53:43 gpu_executor.py:117] Maximum concurrency for 2048 tokens per request: 546.94x\n",
      "INFO 12-09 22:53:43 model_runner.py:1400] Capturing cudagraphs for decoding. This may lead to unexpected consequences if the model is not static. To run the model in eager mode, set 'enforce_eager=True' or use '--enforce-eager' in the CLI.\n",
      "INFO 12-09 22:53:43 model_runner.py:1404] If out-of-memory error occurs during cudagraph capture, consider decreasing `gpu_memory_utilization` or switching to eager mode. You can also reduce the `max_num_seqs` as needed to decrease memory usage.\n",
      "INFO 12-09 22:53:56 model_runner.py:1518] Graph capturing finished in 13 secs, took 0.05 GiB\n"
     ]
    },
    {
     "name": "stderr",
     "output_type": "stream",
     "text": [
      "\n",
      "Processed prompts:   0%|          | 0/200 [00:00<?, ?it/s, est. speed input: 0.00 toks/s, output: 0.00 toks/s]\u001b[A\n",
      "Processed prompts: 100%|██████████| 200/200 [00:01<00:00, 127.74it/s, est. speed input: 16479.24 toks/s, output: 8175.71 toks/s]\n",
      "Testing request counts:  80%|████████  | 4/5 [01:05<00:16, 16.52s/it]"
     ]
    },
    {
     "name": "stdout",
     "output_type": "stream",
     "text": [
      "INFO 12-09 22:53:59 llm_engine.py:249] Initializing an LLM engine (v0.6.4.post1) with config: model='facebook/opt-125m', speculative_config=None, tokenizer='facebook/opt-125m', skip_tokenizer_init=False, tokenizer_mode=auto, revision=None, override_neuron_config=None, tokenizer_revision=None, trust_remote_code=False, dtype=torch.float16, max_seq_len=2048, download_dir=None, load_format=LoadFormat.AUTO, tensor_parallel_size=1, pipeline_parallel_size=1, disable_custom_all_reduce=False, quantization=None, enforce_eager=False, kv_cache_dtype=auto, quantization_param_path=None, device_config=cuda, decoding_config=DecodingConfig(guided_decoding_backend='outlines'), observability_config=ObservabilityConfig(otlp_traces_endpoint=None, collect_model_forward_time=False, collect_model_execute_time=False), seed=0, served_model_name=facebook/opt-125m, num_scheduler_steps=1, chunked_prefill_enabled=False multi_step_stream_outputs=True, enable_prefix_caching=False, use_async_output_proc=True, use_cached_outputs=False, chat_template_text_format=string, mm_processor_kwargs=None, pooler_config=None)\n",
      "INFO 12-09 22:53:59 model_runner.py:1072] Starting to load model facebook/opt-125m...\n",
      "INFO 12-09 22:53:59 weight_utils.py:243] Using model weights format ['*.bin']\n"
     ]
    },
    {
     "data": {
      "application/vnd.jupyter.widget-view+json": {
       "model_id": "1bf23b66228943b38718a63c44419669",
       "version_major": 2,
       "version_minor": 0
      },
      "text/plain": [
       "Loading pt checkpoint shards:   0% Completed | 0/1 [00:00<?, ?it/s]\n"
      ]
     },
     "metadata": {},
     "output_type": "display_data"
    },
    {
     "name": "stdout",
     "output_type": "stream",
     "text": [
      "INFO 12-09 22:54:00 model_runner.py:1077] Loading model weights took 0.2397 GB\n",
      "INFO 12-09 22:54:00 worker.py:232] Memory profiling results: total_gpu_memory=44.48GiB initial_memory_usage=1.13GiB peak_torch_memory=0.83GiB memory_usage_post_profile=1.13GiB non_torch_memory=0.77GiB kv_cache_size=38.44GiB gpu_memory_utilization=0.90\n",
      "INFO 12-09 22:54:00 gpu_executor.py:113] # GPU blocks: 69973, # CPU blocks: 7281\n",
      "INFO 12-09 22:54:00 gpu_executor.py:117] Maximum concurrency for 2048 tokens per request: 546.66x\n",
      "INFO 12-09 22:54:00 model_runner.py:1400] Capturing cudagraphs for decoding. This may lead to unexpected consequences if the model is not static. To run the model in eager mode, set 'enforce_eager=True' or use '--enforce-eager' in the CLI.\n",
      "INFO 12-09 22:54:00 model_runner.py:1404] If out-of-memory error occurs during cudagraph capture, consider decreasing `gpu_memory_utilization` or switching to eager mode. You can also reduce the `max_num_seqs` as needed to decrease memory usage.\n",
      "INFO 12-09 22:54:13 model_runner.py:1518] Graph capturing finished in 13 secs, took 0.05 GiB\n"
     ]
    },
    {
     "name": "stderr",
     "output_type": "stream",
     "text": [
      "\n",
      "Processed prompts:   0%|          | 0/500 [00:00<?, ?it/s, est. speed input: 0.00 toks/s, output: 0.00 toks/s]\u001b[A\n",
      "Processed prompts:   0%|          | 1/500 [00:01<16:13,  1.95s/it, est. speed input: 66.12 toks/s, output: 32.80 toks/s]\u001b[A\n",
      "Processed prompts: 100%|██████████| 500/500 [00:03<00:00, 131.29it/s, est. speed input: 16936.60 toks/s, output: 8402.64 toks/s]A\n",
      "Testing request counts: 100%|██████████| 5/5 [01:24<00:00, 16.97s/it]\n"
     ]
    },
    {
     "data": {
      "image/png": "[encoded data removed]",
      "text/plain": [
       "<Figure size 1500x500 with 3 Axes>"
      ]
     },
     "metadata": {},
     "output_type": "display_data"
    }
   ],
   "source": [
    "def run_all_experiments(model_name: str = \"facebook/opt-125m\"):\n",
    "    \"\"\"Run all experiments and create visualizations.\"\"\"\n",
    "\n",
    "    # Experiment configurations\n",
    "    batch_sizes = [1, 2, 4, 8, 16, 32]\n",
    "    sequence_lengths = [32, 64, 128, 256, 512]\n",
    "    request_counts = [10, 50, 100, 200, 500]\n",
    "\n",
    "    # Run experiments\n",
    "    print(\"Running batch size experiments...\")\n",
    "    batch_results = experiment_batch_sizes(model_name, batch_sizes)\n",
    "\n",
    "    print(\"Running sequence length experiments...\")\n",
    "    length_results = experiment_sequence_lengths(model_name, sequence_lengths)\n",
    "\n",
    "    print(\"Running request count experiments...\")\n",
    "    request_results = experiment_num_requests(model_name, request_counts)\n",
    "\n",
    "    # Create visualizations\n",
    "    plt.figure(figsize=(15, 5))\n",
    "\n",
    "    # Batch size vs throughput\n",
    "    plt.subplot(1, 3, 1)\n",
    "    sns.lineplot(data=batch_results, x='batch_size', y='throughput')\n",
    "    plt.title('Batch Size vs Throughput')\n",
    "    plt.xlabel('Batch Size')\n",
    "    plt.ylabel('Tokens/second')\n",
    "    plt.xscale('log')\n",
    "\n",
    "    # Sequence length vs throughput\n",
    "    plt.subplot(1, 3, 2)\n",
    "    sns.lineplot(data=length_results, x='sequence_length', y='throughput')\n",
    "    plt.title('Sequence Length vs Throughput')\n",
    "    plt.xlabel('Sequence Length')\n",
    "    plt.ylabel('Tokens/second')\n",
    "    plt.xscale('log')\n",
    "\n",
    "    # Number of requests vs throughput\n",
    "    plt.subplot(1, 3, 3)\n",
    "    sns.lineplot(data=request_results, x='num_requests', y='throughput')\n",
    "    plt.title('Number of Requests vs Throughput')\n",
    "    plt.xlabel('Number of Requests')\n",
    "    plt.ylabel('Tokens/second')\n",
    "    plt.xscale('log')\n",
    "\n",
    "    plt.tight_layout()\n",
    "    plt.show()\n",
    "\n",
    "    return batch_results, length_results, request_results\n",
    "\n",
    "# Run experiments and store results\n",
    "batch_results, length_results, request_results = run_all_experiments()"
   ]
  },
  {
   "cell_type": "markdown",
   "metadata": {
    "id": "iWZu4NdEx32F"
   },
   "source": [
    "  - Write a clear analysis of the results (2 points)\n"
   ]
  },
  {
   "cell_type": "markdown",
   "metadata": {
    "id": "88i7p_nJxlJO"
   },
   "source": [
    "# Your Analysis Here"
   ]
  },
  {
   "cell_type": "markdown",
   "metadata": {
    "id": "iWZu4NdEx32F"
   },
   "source": [
    "I ran some benchmark tests on the OPT-125M language model using vLLM, and I discovered some really interesting things about its performance. I focused on three key aspects: how batch size, sequence length, and the number of concurrent requests affect its processing speed (measured in tokens per second).\n",
    "\n",
    "First, let's talk about batch size. I tested with batch sizes ranging from 1 to 32. The results were striking: I saw a near-perfect linear increase in throughput. Starting at roughly 1,000 tokens/second with a batch size of 1, it soared to over 16,000 tokens/second at a batch size of 32. That's a nearly 16x improvement! Importantly, this linear scaling continued even at the higher batch sizes, indicating that the GPU memory and compute resources were being used very efficiently. There was no sign of a performance plateau, suggesting that even larger batch sizes might yield further throughput gains.\n",
    "\n",
    "Next, I investigated the impact of sequence length, testing with lengths ranging from 32 to 512 tokens. This revealed a more complex relationship, best described as an inverted U-shape. Peak performance was observed around a sequence length of 256 tokens, achieving approximately 11,800 tokens/second. Interestingly, throughput dropped significantly for very long sequences (512 tokens), falling to about 11,000 tokens/second. The initial increase in throughput (from 32 to 256 tokens) likely reflects better hardware utilization with moderately sized sequences. The subsequent decline after 256 tokens is probably due to increased memory pressure and computational overhead associated with processing longer sequences.\n",
    "\n",
    "Finally, I examined the system's ability to handle a varying number of concurrent requests, ranging from 10 to 500. Here, I observed excellent scaling. Throughput increased sharply from 10 to 200 requests, reaching approximately 22,000 tokens/second. Beyond 200 requests, the growth rate slowed, but throughput continued to improve slightly up to 500 requests. The near-linear scaling up to 200 requests demonstrates efficient request handling and resource utilization. The gradual plateauing after 200 requests suggests that we were approaching the hardware's processing capacity.\n",
    "\n",
    "In summary, my findings highlight several key performance characteristics:\n",
    "\n",
    "- Optimal throughput is achieved with larger batch sizes (32 or more).\n",
    "\n",
    "- Medium-length sequences (around 256 tokens) offer the best performance balance.\n",
    "\n",
    "- The system handles high request volumes efficiently, with optimal performance in the range of 200-500 concurrent requests.\n",
    "\n",
    "- vLLM's dynamic batching and memory management strategies demonstrate robust performance across diverse workload patterns.\n"
   ]
  }
 ],
 "metadata": {
  "accelerator": "GPU",
  "colab": {
   "gpuType": "A100",
   "machine_shape": "hm",
   "provenance": []
  },
  "kernelspec": {
   "display_name": "my_env",
   "language": "python",
   "name": "my_env"
  },
  "language_info": {
   "codemirror_mode": {
    "name": "ipython",
    "version": 3
   },
   "file_extension": ".py",
   "mimetype": "text/x-python",
   "name": "python",
   "nbconvert_exporter": "python",
   "pygments_lexer": "ipython3",
   "version": "3.12.6"
  }
 },
 "nbformat": 4,
 "nbformat_minor": 4
}
